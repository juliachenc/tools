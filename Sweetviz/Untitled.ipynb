{
 "cells": [
  {
   "cell_type": "code",
   "execution_count": 1,
   "id": "359f7664",
   "metadata": {},
   "outputs": [],
   "source": [
    "# two lines of code to create high-density visualizations html report"
   ]
  },
  {
   "cell_type": "code",
   "execution_count": 2,
   "id": "93e9c169-ed54-4e7e-8466-a399eb0ed29b",
   "metadata": {},
   "outputs": [],
   "source": [
    "# Functions\n",
    "# analyze (), compare(), and compare_instra()"
   ]
  },
  {
   "cell_type": "markdown",
   "id": "d4fff5af-850f-4006-902d-028f28a25b83",
   "metadata": {},
   "source": [
    "SweetViz automatically generates reports from Pandas DataFrame.\n",
    "\n",
    "It simply performs target analysis, comparison, feature analysis, and correlation analysis with two lines of code. \n",
    "\n",
    "Core functions: # analyze (), compare(), and compare_instra()\n",
    "\n",
    "Use a show_xxx() function to render the report. You can now use either html or notebook report options, as well as scaling: (more info on these options below)\n",
    "\n",
    "For each column the following statistics - if relevant for the column type - are presented in an interactive HTML report:\n",
    "    1.  Type inference: detect the types of columns in a data frame.\n",
    "    2.  Essentials: type, unique values, missing values\n",
    "    3.  Quantile statistics like minimum value, Q1, median, Q3, maximum, range, interquartile range\n",
    "    4. Descriptive statistics like mean, mode, standard deviation, sum, median absolute deviation, coefficient of variation, kurtosis, skewness\n",
    "    5. Most frequent values\n",
    "    6. Histogram\n",
    "    7. Correlations highlighting of highly correlated variables, Spearman, Pearson and Kendall matrices\n",
    "    8. Missing values matrix, count, heatmap and dendrogram of missing values\n",
    "    9. Text analysis learn about categories (Uppercase, Space), scripts (Latin, Cyrillic) and blocks (ASCIl) of text data.\n",
    "    10. File and Image analysis extract file sizes, creation dates and dimensions and scan for truncated images or those containing EXIF information."
   ]
  },
  {
   "cell_type": "code",
   "execution_count": 5,
   "id": "2d008d29-5ef8-48b0-bf13-ae98a9c8ed6d",
   "metadata": {},
   "outputs": [],
   "source": [
    "import sweetviz as sv\n",
    "import pandas as pd"
   ]
  },
  {
   "cell_type": "code",
   "execution_count": null,
   "id": "fabf6ef2-9749-4866-9dd0-c1b936c239c6",
   "metadata": {},
   "outputs": [
    {
     "name": "stderr",
     "output_type": "stream",
     "text": [
      "Done! Use 'show' commands to display/save.   |██████████| [100%]   00:00 -> (00:00 left)\n"
     ]
    }
   ],
   "source": [
    "my_report = sv.analyze([train, \"Train\"],target_feat='lifeExp')\n"
   ]
  },
  {
   "cell_type": "code",
   "execution_count": null,
   "id": "49700039-59cc-4c74-9a1b-41bc9a68b5a1",
   "metadata": {},
   "outputs": [
    {
     "name": "stdout",
     "output_type": "stream",
     "text": [
      "Report SWEETVIZ_REPORT.html was generated! NOTEBOOK/COLAB USERS: the web browser MAY not pop up, regardless, the report IS saved in your notebook/colab files.\n"
     ]
    }
   ],
   "source": [
    "my_report.show_html()"
   ]
  },
  {
   "cell_type": "markdown",
   "id": "cb5f738d-2feb-4d37-81d0-a89ba006b717",
   "metadata": {},
   "source": [
    "SweetViz Documentation https://pypi.org/project/sweetviz/\n",
    "\n",
    "Other types of auto EDA packaes: Pandas Profiling, autoviz"
   ]
  }
 ],
 "metadata": {
  "kernelspec": {
   "display_name": "suit",
   "language": "python",
   "name": "python3"
  },
  "language_info": {
   "codemirror_mode": {
    "name": "ipython",
    "version": 3
   },
   "file_extension": ".py",
   "mimetype": "text/x-python",
   "name": "python",
   "nbconvert_exporter": "python",
   "pygments_lexer": "ipython3",
   "version": "3.11.4"
  }
 },
 "nbformat": 4,
 "nbformat_minor": 5
}
