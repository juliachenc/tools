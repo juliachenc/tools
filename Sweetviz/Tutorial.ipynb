{
 "cells": [
  {
   "cell_type": "code",
   "execution_count": 22,
   "id": "2d008d29-5ef8-48b0-bf13-ae98a9c8ed6d",
   "metadata": {},
   "outputs": [],
   "source": [
    "import sweetviz as sv\n",
    "import pandas as pd\n",
    "import numpy as np\n",
    "#!pip install sweetviz"
   ]
  },
  {
   "cell_type": "code",
   "execution_count": null,
   "id": "359f7664",
   "metadata": {},
   "outputs": [],
   "source": [
    "# two lines of code to create high-density visualizations html reports"
   ]
  },
  {
   "cell_type": "code",
   "execution_count": null,
   "id": "93e9c169-ed54-4e7e-8466-a399eb0ed29b",
   "metadata": {},
   "outputs": [],
   "source": [
    "# Functions\n",
    "# analyze (), compare(), and compare_instra()"
   ]
  },
  {
   "cell_type": "markdown",
   "id": "d4fff5af-850f-4006-902d-028f28a25b83",
   "metadata": {},
   "source": [
    "SweetViz automatically generates reports from Pandas DataFrame.\n",
    "\n",
    "It simply performs target analysis, comparison, feature analysis, and correlation analysis with two lines of code. \n",
    "\n",
    "Core functions: # **analyze ()**, **compare()***, and **compare_instra()**\n",
    "\n",
    "Use a show_xxx() function to render the report. You can now use either html or notebook report options, as well as scaling: (more info on these options below)\n",
    "\n",
    "For each column the following statistics - if relevant for the column type - are presented in an interactive HTML report:\n",
    "\n",
    "    1. Type inference: detect categorial and numerical types of columns in a data frame\n",
    "\n",
    "    2. Essentials: type, unique values, missing values\n",
    "\n",
    "    3. Quantile statistics like minimum value, Q1, median, Q3, maximum, range, interquartile range\n",
    "\n",
    "    4. Descriptive statistics like mean, mode, standard deviation, sum, median absolute deviation, coefficient of variation, kurtosis, skewness\n",
    "\n",
    "    5. Most frequent values\n",
    "    \n",
    "    6. Histogram showing all feature distribution at once\n",
    "\n",
    "    7. Correlations highlighting of highly correlated variables\n",
    "    \n"
   ]
  },
  {
   "cell_type": "code",
   "execution_count": 20,
   "id": "bbacbc18",
   "metadata": {},
   "outputs": [],
   "source": [
    "### load data \n",
    "train = pd.read_csv(\"train.csv\", index_col=0)\n",
    "test = pd.read_csv(\"test.csv\", index_col=0)"
   ]
  },
  {
   "cell_type": "code",
   "execution_count": 21,
   "id": "56f411ed",
   "metadata": {},
   "outputs": [
    {
     "data": {
      "text/html": [
       "<div>\n",
       "<style scoped>\n",
       "    .dataframe tbody tr th:only-of-type {\n",
       "        vertical-align: middle;\n",
       "    }\n",
       "\n",
       "    .dataframe tbody tr th {\n",
       "        vertical-align: top;\n",
       "    }\n",
       "\n",
       "    .dataframe thead th {\n",
       "        text-align: right;\n",
       "    }\n",
       "</style>\n",
       "<table border=\"1\" class=\"dataframe\">\n",
       "  <thead>\n",
       "    <tr style=\"text-align: right;\">\n",
       "      <th></th>\n",
       "      <th>age</th>\n",
       "      <th>blood_pressure</th>\n",
       "      <th>gender</th>\n",
       "      <th>blood_test</th>\n",
       "      <th>family_history</th>\n",
       "      <th>MeasureA</th>\n",
       "      <th>TestB</th>\n",
       "      <th>GeneA</th>\n",
       "      <th>GeneB</th>\n",
       "      <th>GeneC</th>\n",
       "    </tr>\n",
       "  </thead>\n",
       "  <tbody>\n",
       "    <tr>\n",
       "      <th>1864</th>\n",
       "      <td>71</td>\n",
       "      <td>89.334118</td>\n",
       "      <td>Male</td>\n",
       "      <td>0</td>\n",
       "      <td>1</td>\n",
       "      <td>-11.702578</td>\n",
       "      <td>0.026862</td>\n",
       "      <td>0</td>\n",
       "      <td>0</td>\n",
       "      <td>1</td>\n",
       "    </tr>\n",
       "    <tr>\n",
       "      <th>3632</th>\n",
       "      <td>46</td>\n",
       "      <td>83.265859</td>\n",
       "      <td>Female</td>\n",
       "      <td>0</td>\n",
       "      <td>0</td>\n",
       "      <td>0.097080</td>\n",
       "      <td>0.541079</td>\n",
       "      <td>0</td>\n",
       "      <td>1</td>\n",
       "      <td>0</td>\n",
       "    </tr>\n",
       "    <tr>\n",
       "      <th>5482</th>\n",
       "      <td>67</td>\n",
       "      <td>83.360785</td>\n",
       "      <td>Male</td>\n",
       "      <td>0</td>\n",
       "      <td>1</td>\n",
       "      <td>-11.069995</td>\n",
       "      <td>-0.248449</td>\n",
       "      <td>0</td>\n",
       "      <td>0</td>\n",
       "      <td>0</td>\n",
       "    </tr>\n",
       "    <tr>\n",
       "      <th>8921</th>\n",
       "      <td>44</td>\n",
       "      <td>87.765201</td>\n",
       "      <td>Male</td>\n",
       "      <td>0</td>\n",
       "      <td>0</td>\n",
       "      <td>0.949027</td>\n",
       "      <td>-0.119230</td>\n",
       "      <td>1</td>\n",
       "      <td>0</td>\n",
       "      <td>1</td>\n",
       "    </tr>\n",
       "    <tr>\n",
       "      <th>1827</th>\n",
       "      <td>67</td>\n",
       "      <td>81.379150</td>\n",
       "      <td>Male</td>\n",
       "      <td>0</td>\n",
       "      <td>1</td>\n",
       "      <td>-9.937333</td>\n",
       "      <td>0.419057</td>\n",
       "      <td>1</td>\n",
       "      <td>0</td>\n",
       "      <td>0</td>\n",
       "    </tr>\n",
       "  </tbody>\n",
       "</table>\n",
       "</div>"
      ],
      "text/plain": [
       "      age  blood_pressure  gender  blood_test  family_history   MeasureA  \\\n",
       "1864   71       89.334118    Male           0               1 -11.702578   \n",
       "3632   46       83.265859  Female           0               0   0.097080   \n",
       "5482   67       83.360785    Male           0               1 -11.069995   \n",
       "8921   44       87.765201    Male           0               0   0.949027   \n",
       "1827   67       81.379150    Male           0               1  -9.937333   \n",
       "\n",
       "         TestB  GeneA  GeneB  GeneC  \n",
       "1864  0.026862      0      0      1  \n",
       "3632  0.541079      0      1      0  \n",
       "5482 -0.248449      0      0      0  \n",
       "8921 -0.119230      1      0      1  \n",
       "1827  0.419057      1      0      0  "
      ]
     },
     "execution_count": 21,
     "metadata": {},
     "output_type": "execute_result"
    }
   ],
   "source": [
    "train.head()"
   ]
  },
  {
   "cell_type": "code",
   "execution_count": 26,
   "id": "66366bd6",
   "metadata": {},
   "outputs": [],
   "source": [
    "train['test'] = np.random.choice([1,2,3], train.shape[0])"
   ]
  },
  {
   "cell_type": "code",
   "execution_count": 27,
   "id": "62cd38f4",
   "metadata": {},
   "outputs": [
    {
     "data": {
      "text/plain": [
       "array([3, 1, 2])"
      ]
     },
     "execution_count": 27,
     "metadata": {},
     "output_type": "execute_result"
    }
   ],
   "source": [
    "train['test'].unique()"
   ]
  },
  {
   "cell_type": "markdown",
   "id": "54032def",
   "metadata": {},
   "source": [
    "step 1: call one of the core function: **analyze ()**, **compare()***, and **compare_instra()**\n",
    "\n",
    "step 2: show it using show_html or show_notebook"
   ]
  },
  {
   "cell_type": "markdown",
   "id": "df67ea78",
   "metadata": {},
   "source": [
    "### 1. Analyze function \n",
    "\n",
    "- target_feat: adding target feature ussing \n",
    "\n",
    "- feat_cfg: feature want to skip, or to be forced a certain type in the analysis"
   ]
  },
  {
   "cell_type": "code",
   "execution_count": null,
   "id": "6737da1c",
   "metadata": {},
   "outputs": [],
   "source": [
    "my_report = sv.analyze([train, \"Train\"])\n",
    "\n",
    "# The default name is \"SWEETVIZ_REPORT.html\" \n",
    "my_report.show_html(filepath='vis_train_blood_pressure.html')"
   ]
  },
  {
   "cell_type": "code",
   "execution_count": null,
   "id": "34aceef1",
   "metadata": {},
   "outputs": [],
   "source": [
    "my_report = sv.analyze([train, \"Train\"], target_feat='blood_pressure')\n",
    "my_report.show_html(filepath='vis_train_blood_pressure.html')"
   ]
  },
  {
   "cell_type": "markdown",
   "id": "3d8585c6",
   "metadata": {},
   "source": [
    "### 2. Compare_intra function (Comparing two subsets of the same dataframe, e.g. Male vs Female)\n"
   ]
  },
  {
   "cell_type": "code",
   "execution_count": 29,
   "id": "23017a67",
   "metadata": {},
   "outputs": [
    {
     "name": "stderr",
     "output_type": "stream",
     "text": [
      "Feature: test                                |█████████▏| [ 92%]   00:01 -> (00:00 left)"
     ]
    },
    {
     "ename": "TypeError",
     "evalue": "\n\nCannot convert series 'test' in COMPARED from its TYPE_CATEGORICAL\nto the desired type TYPE_BOOL.\nCheck documentation for the possible coercion possibilities.\nPOSSIBLE RESOLUTIONS:\n -> Use the feat_cfg parameter (see docs on git) to force the column to be a specific type (may or may not help depending on the type)\n -> Modify the source data to be more explicitly of a single specific type\n -> This could also be caused by a feature type mismatch between source and compare dataframes:\n    In that case, make sure the source and compared dataframes are compatible.\n",
     "output_type": "error",
     "traceback": [
      "\u001b[1;31m---------------------------------------------------------------------------\u001b[0m",
      "\u001b[1;31mTypeError\u001b[0m                                 Traceback (most recent call last)",
      "Cell \u001b[1;32mIn[29], line 1\u001b[0m\n\u001b[1;32m----> 1\u001b[0m my_report \u001b[38;5;241m=\u001b[39m \u001b[43msv\u001b[49m\u001b[38;5;241;43m.\u001b[39;49m\u001b[43mcompare_intra\u001b[49m\u001b[43m(\u001b[49m\u001b[43mtrain\u001b[49m\u001b[43m,\u001b[49m\u001b[43m \u001b[49m\u001b[43mtrain\u001b[49m\u001b[43m[\u001b[49m\u001b[38;5;124;43m\"\u001b[39;49m\u001b[38;5;124;43mtest\u001b[39;49m\u001b[38;5;124;43m\"\u001b[39;49m\u001b[43m]\u001b[49m\u001b[43m \u001b[49m\u001b[38;5;241;43m==\u001b[39;49m\u001b[43m \u001b[49m\u001b[38;5;241;43m1\u001b[39;49m\u001b[43m,\u001b[49m\u001b[43m \u001b[49m\u001b[43m[\u001b[49m\u001b[38;5;241;43m1\u001b[39;49m\u001b[43m,\u001b[49m\u001b[43m \u001b[49m\u001b[38;5;241;43m2\u001b[39;49m\u001b[43m,\u001b[49m\u001b[38;5;241;43m3\u001b[39;49m\u001b[43m]\u001b[49m\u001b[43m)\u001b[49m\n\u001b[0;32m      2\u001b[0m my_report\u001b[38;5;241m.\u001b[39mshow_html(filepath\u001b[38;5;241m=\u001b[39m\u001b[38;5;124m'\u001b[39m\u001b[38;5;124mvis_compare_intra.html\u001b[39m\u001b[38;5;124m'\u001b[39m)\n",
      "File \u001b[1;32mc:\\venvs\\suit\\Lib\\site-packages\\sweetviz\\sv_public.py:46\u001b[0m, in \u001b[0;36mcompare_intra\u001b[1;34m(source_df, condition_series, names, target_feat, feat_cfg, pairwise_analysis)\u001b[0m\n\u001b[0;32m     44\u001b[0m \u001b[38;5;28;01mif\u001b[39;00m \u001b[38;5;28mlen\u001b[39m(data_true) \u001b[38;5;241m==\u001b[39m \u001b[38;5;241m0\u001b[39m:\n\u001b[0;32m     45\u001b[0m     \u001b[38;5;28;01mraise\u001b[39;00m \u001b[38;5;167;01mValueError\u001b[39;00m(\u001b[38;5;124m'\u001b[39m\u001b[38;5;124mcompare_intra(): TRUE dataset is empty, nothing to compare!\u001b[39m\u001b[38;5;124m'\u001b[39m)\n\u001b[1;32m---> 46\u001b[0m report \u001b[38;5;241m=\u001b[39m \u001b[43msweetviz\u001b[49m\u001b[38;5;241;43m.\u001b[39;49m\u001b[43mDataframeReport\u001b[49m\u001b[43m(\u001b[49m\u001b[43m[\u001b[49m\u001b[43mdata_true\u001b[49m\u001b[43m,\u001b[49m\u001b[43m \u001b[49m\u001b[43mnames\u001b[49m\u001b[43m[\u001b[49m\u001b[38;5;241;43m0\u001b[39;49m\u001b[43m]\u001b[49m\u001b[43m]\u001b[49m\u001b[43m,\u001b[49m\u001b[43m \u001b[49m\u001b[43mtarget_feat\u001b[49m\u001b[43m,\u001b[49m\n\u001b[0;32m     47\u001b[0m \u001b[43m                                  \u001b[49m\u001b[43m[\u001b[49m\u001b[43mdata_false\u001b[49m\u001b[43m,\u001b[49m\u001b[43m \u001b[49m\u001b[43mnames\u001b[49m\u001b[43m[\u001b[49m\u001b[38;5;241;43m1\u001b[39;49m\u001b[43m]\u001b[49m\u001b[43m]\u001b[49m\u001b[43m,\u001b[49m\n\u001b[0;32m     48\u001b[0m \u001b[43m                                  \u001b[49m\u001b[43mpairwise_analysis\u001b[49m\u001b[43m,\u001b[49m\u001b[43m \u001b[49m\u001b[43mfeat_cfg\u001b[49m\u001b[43m)\u001b[49m\n\u001b[0;32m     49\u001b[0m \u001b[38;5;28;01mreturn\u001b[39;00m report\n",
      "File \u001b[1;32mc:\\venvs\\suit\\Lib\\site-packages\\sweetviz\\dataframe_report.py:277\u001b[0m, in \u001b[0;36mDataframeReport.__init__\u001b[1;34m(self, source, target_feature_name, compare, pairwise_analysis, fc, verbosity)\u001b[0m\n\u001b[0;32m    274\u001b[0m \u001b[38;5;28;01mfor\u001b[39;00m f \u001b[38;5;129;01min\u001b[39;00m features_to_process:\n\u001b[0;32m    275\u001b[0m     \u001b[38;5;66;03m# start = time.perf_counter()\u001b[39;00m\n\u001b[0;32m    276\u001b[0m     \u001b[38;5;28mself\u001b[39m\u001b[38;5;241m.\u001b[39mprogress_bar\u001b[38;5;241m.\u001b[39mset_description_str(\u001b[38;5;124mf\u001b[39m\u001b[38;5;124m\"\u001b[39m\u001b[38;5;124mFeature: \u001b[39m\u001b[38;5;132;01m{\u001b[39;00mf\u001b[38;5;241m.\u001b[39msource\u001b[38;5;241m.\u001b[39mname\u001b[38;5;132;01m}\u001b[39;00m\u001b[38;5;124m\"\u001b[39m)\n\u001b[1;32m--> 277\u001b[0m     \u001b[38;5;28mself\u001b[39m\u001b[38;5;241m.\u001b[39m_features[f\u001b[38;5;241m.\u001b[39msource\u001b[38;5;241m.\u001b[39mname] \u001b[38;5;241m=\u001b[39m \u001b[43msa\u001b[49m\u001b[38;5;241;43m.\u001b[39;49m\u001b[43manalyze_feature_to_dictionary\u001b[49m\u001b[43m(\u001b[49m\u001b[43mf\u001b[49m\u001b[43m)\u001b[49m\n\u001b[0;32m    278\u001b[0m     \u001b[38;5;28mself\u001b[39m\u001b[38;5;241m.\u001b[39mprogress_bar\u001b[38;5;241m.\u001b[39mupdate(\u001b[38;5;241m1\u001b[39m)\n\u001b[0;32m    279\u001b[0m     \u001b[38;5;66;03m# print(f\"DONE FEATURE------> {f.source.name}\"\u001b[39;00m\n\u001b[0;32m    280\u001b[0m     \u001b[38;5;66;03m#       f\" {(time.perf_counter() - start):.2f}   {self._features[f.source.name]['type']}\")\u001b[39;00m\n\u001b[0;32m    281\u001b[0m \u001b[38;5;66;03m# self.progress_bar.set_description_str('[FEATURES DONE]')\u001b[39;00m\n\u001b[0;32m    282\u001b[0m \u001b[38;5;66;03m# self.progress_bar.close()\u001b[39;00m\n\u001b[0;32m    283\u001b[0m \n\u001b[0;32m    284\u001b[0m \u001b[38;5;66;03m# Wrap up summary\u001b[39;00m\n",
      "File \u001b[1;32mc:\\venvs\\suit\\Lib\\site-packages\\sweetviz\\series_analyzer.py:107\u001b[0m, in \u001b[0;36manalyze_feature_to_dictionary\u001b[1;34m(to_process)\u001b[0m\n\u001b[0;32m    105\u001b[0m \u001b[38;5;28;01mif\u001b[39;00m to_process\u001b[38;5;241m.\u001b[39mcompare \u001b[38;5;129;01mis\u001b[39;00m \u001b[38;5;129;01mnot\u001b[39;00m \u001b[38;5;28;01mNone\u001b[39;00m:\n\u001b[0;32m    106\u001b[0m     to_process\u001b[38;5;241m.\u001b[39mcompare_counts \u001b[38;5;241m=\u001b[39m get_counts(to_process\u001b[38;5;241m.\u001b[39mcompare)\n\u001b[1;32m--> 107\u001b[0m     compare_type \u001b[38;5;241m=\u001b[39m \u001b[43mdetermine_feature_type\u001b[49m\u001b[43m(\u001b[49m\u001b[43mto_process\u001b[49m\u001b[38;5;241;43m.\u001b[39;49m\u001b[43mcompare\u001b[49m\u001b[43m,\u001b[49m\n\u001b[0;32m    108\u001b[0m \u001b[43m                                          \u001b[49m\u001b[43mto_process\u001b[49m\u001b[38;5;241;43m.\u001b[39;49m\u001b[43mcompare_counts\u001b[49m\u001b[43m,\u001b[49m\n\u001b[0;32m    109\u001b[0m \u001b[43m                                          \u001b[49m\u001b[43mreturned_feature_dict\u001b[49m\u001b[43m[\u001b[49m\u001b[38;5;124;43m\"\u001b[39;49m\u001b[38;5;124;43mtype\u001b[39;49m\u001b[38;5;124;43m\"\u001b[39;49m\u001b[43m]\u001b[49m\u001b[43m,\u001b[49m\u001b[43m \u001b[49m\u001b[38;5;124;43m\"\u001b[39;49m\u001b[38;5;124;43mCOMPARED\u001b[39;49m\u001b[38;5;124;43m\"\u001b[39;49m\u001b[43m)\u001b[49m\n\u001b[0;32m    110\u001b[0m     \u001b[38;5;28;01mif\u001b[39;00m compare_type \u001b[38;5;241m!=\u001b[39m FeatureType\u001b[38;5;241m.\u001b[39mTYPE_ALL_NAN \u001b[38;5;129;01mand\u001b[39;00m \\\n\u001b[0;32m    111\u001b[0m         source_type \u001b[38;5;241m!=\u001b[39m FeatureType\u001b[38;5;241m.\u001b[39mTYPE_ALL_NAN:\n\u001b[0;32m    112\u001b[0m         \u001b[38;5;66;03m# Explicitly show missing categories on each set\u001b[39;00m\n\u001b[0;32m    113\u001b[0m         \u001b[38;5;28;01mif\u001b[39;00m compare_type \u001b[38;5;241m==\u001b[39m FeatureType\u001b[38;5;241m.\u001b[39mTYPE_CAT \u001b[38;5;129;01mor\u001b[39;00m compare_type \u001b[38;5;241m==\u001b[39m FeatureType\u001b[38;5;241m.\u001b[39mTYPE_BOOL:\n",
      "File \u001b[1;32mc:\\venvs\\suit\\Lib\\site-packages\\sweetviz\\type_detection.py:80\u001b[0m, in \u001b[0;36mdetermine_feature_type\u001b[1;34m(series, counts, must_be_this_type, which_dataframe)\u001b[0m\n\u001b[0;32m     78\u001b[0m         var_type \u001b[38;5;241m=\u001b[39m FeatureType\u001b[38;5;241m.\u001b[39mTYPE_TEXT\n\u001b[0;32m     79\u001b[0m     \u001b[38;5;28;01melse\u001b[39;00m:\n\u001b[1;32m---> 80\u001b[0m         \u001b[38;5;28;01mraise\u001b[39;00m \u001b[38;5;167;01mTypeError\u001b[39;00m(\u001b[38;5;124mf\u001b[39m\u001b[38;5;124m\"\u001b[39m\u001b[38;5;130;01m\\n\u001b[39;00m\u001b[38;5;130;01m\\n\u001b[39;00m\u001b[38;5;124mCannot convert series \u001b[39m\u001b[38;5;124m'\u001b[39m\u001b[38;5;132;01m{\u001b[39;00mseries\u001b[38;5;241m.\u001b[39mname\u001b[38;5;132;01m}\u001b[39;00m\u001b[38;5;124m'\u001b[39m\u001b[38;5;124m in \u001b[39m\u001b[38;5;132;01m{\u001b[39;00mwhich_dataframe\u001b[38;5;132;01m}\u001b[39;00m\u001b[38;5;124m from its \u001b[39m\u001b[38;5;132;01m{\u001b[39;00mvar_type\u001b[38;5;132;01m}\u001b[39;00m\u001b[38;5;130;01m\\n\u001b[39;00m\u001b[38;5;124m\"\u001b[39m\n\u001b[0;32m     81\u001b[0m                         \u001b[38;5;124mf\u001b[39m\u001b[38;5;124m\"\u001b[39m\u001b[38;5;124mto the desired type \u001b[39m\u001b[38;5;132;01m{\u001b[39;00mmust_be_this_type\u001b[38;5;132;01m}\u001b[39;00m\u001b[38;5;124m.\u001b[39m\u001b[38;5;130;01m\\n\u001b[39;00m\u001b[38;5;124mCheck documentation for the possible coercion possibilities.\u001b[39m\u001b[38;5;130;01m\\n\u001b[39;00m\u001b[38;5;124m\"\u001b[39m\n\u001b[0;32m     82\u001b[0m                         \u001b[38;5;124mf\u001b[39m\u001b[38;5;124m\"\u001b[39m\u001b[38;5;124mPOSSIBLE RESOLUTIONS:\u001b[39m\u001b[38;5;130;01m\\n\u001b[39;00m\u001b[38;5;124m\"\u001b[39m\n\u001b[0;32m     83\u001b[0m                         \u001b[38;5;124mf\u001b[39m\u001b[38;5;124m\"\u001b[39m\u001b[38;5;124m -> Use the feat_cfg parameter (see docs on git) to force the column to be a specific type (may or may not help depending on the type)\u001b[39m\u001b[38;5;130;01m\\n\u001b[39;00m\u001b[38;5;124m\"\u001b[39m\n\u001b[0;32m     84\u001b[0m                         \u001b[38;5;124mf\u001b[39m\u001b[38;5;124m\"\u001b[39m\u001b[38;5;124m -> Modify the source data to be more explicitly of a single specific type\u001b[39m\u001b[38;5;130;01m\\n\u001b[39;00m\u001b[38;5;124m\"\u001b[39m\n\u001b[0;32m     85\u001b[0m                         \u001b[38;5;124mf\u001b[39m\u001b[38;5;124m\"\u001b[39m\u001b[38;5;124m -> This could also be caused by a feature type mismatch between source and compare dataframes:\u001b[39m\u001b[38;5;130;01m\\n\u001b[39;00m\u001b[38;5;124m\"\u001b[39m\n\u001b[0;32m     86\u001b[0m                         \u001b[38;5;124mf\u001b[39m\u001b[38;5;124m\"\u001b[39m\u001b[38;5;124m    In that case, make sure the source and compared dataframes are compatible.\u001b[39m\u001b[38;5;130;01m\\n\u001b[39;00m\u001b[38;5;124m\"\u001b[39m)\n\u001b[0;32m     87\u001b[0m \u001b[38;5;28;01mreturn\u001b[39;00m var_type\n",
      "\u001b[1;31mTypeError\u001b[0m: \n\nCannot convert series 'test' in COMPARED from its TYPE_CATEGORICAL\nto the desired type TYPE_BOOL.\nCheck documentation for the possible coercion possibilities.\nPOSSIBLE RESOLUTIONS:\n -> Use the feat_cfg parameter (see docs on git) to force the column to be a specific type (may or may not help depending on the type)\n -> Modify the source data to be more explicitly of a single specific type\n -> This could also be caused by a feature type mismatch between source and compare dataframes:\n    In that case, make sure the source and compared dataframes are compatible.\n"
     ]
    }
   ],
   "source": [
    "my_report = sv.compare_intra(train, train[\"test\"] == 1, [1, 2,3])\n",
    "my_report.show_html(filepath='vis_compare_intra.html')"
   ]
  },
  {
   "cell_type": "markdown",
   "id": "b762c975",
   "metadata": {},
   "source": [
    "### 3. Compare function (Comparing two dataframes, e.g. Test vs Training sets)"
   ]
  },
  {
   "cell_type": "code",
   "execution_count": null,
   "id": "1754594b",
   "metadata": {},
   "outputs": [],
   "source": [
    "my_report = sv.compare([train, 'Train'], [test, 'Test'])\n",
    "my_report.show_html(filepath='vis_compare.html')"
   ]
  },
  {
   "cell_type": "markdown",
   "id": "4e84ed8e",
   "metadata": {},
   "source": [
    "### 4. Show_xxx funnction: show_html VS show_notebook"
   ]
  },
  {
   "cell_type": "code",
   "execution_count": null,
   "id": "2b15f911",
   "metadata": {},
   "outputs": [],
   "source": [
    "my_report = sv.analyze([train, \"Train\"])\n",
    "my_report.show_html(filepath='vis_train.html')"
   ]
  },
  {
   "cell_type": "code",
   "execution_count": null,
   "id": "f6fdc7d3",
   "metadata": {},
   "outputs": [],
   "source": [
    "# Also can do show_notebook\n",
    "# No filepath name is needed, shows the plots inside the notebook\n",
    "my_report.show_notebook(filepath=None)"
   ]
  },
  {
   "cell_type": "markdown",
   "id": "cb5f738d-2feb-4d37-81d0-a89ba006b717",
   "metadata": {},
   "source": [
    "SweetViz Documentation https://pypi.org/project/sweetviz/\n",
    "\n",
    "Other types of auto EDA packaes: Pandas Profiling, autoviz\n",
    "\n",
    "R: DataExplorer https://www.kaggle.com/code/nulldata/rapid-automated-eda-for-any-dataset/report"
   ]
  }
 ],
 "metadata": {
  "kernelspec": {
   "display_name": "suit",
   "language": "python",
   "name": "python3"
  },
  "language_info": {
   "codemirror_mode": {
    "name": "ipython",
    "version": 3
   },
   "file_extension": ".py",
   "mimetype": "text/x-python",
   "name": "python",
   "nbconvert_exporter": "python",
   "pygments_lexer": "ipython3",
   "version": "3.11.4"
  }
 },
 "nbformat": 4,
 "nbformat_minor": 5
}
