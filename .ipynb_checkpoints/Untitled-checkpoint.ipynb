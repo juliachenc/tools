{
 "cells": [
  {
   "cell_type": "code",
   "execution_count": 1,
   "id": "359f7664",
   "metadata": {},
   "outputs": [],
   "source": [
    "# two lines of code to create high-density visualizations html report"
   ]
  },
  {
   "cell_type": "code",
   "execution_count": null,
   "id": "1e74c100",
   "metadata": {},
   "outputs": [],
   "source": [
    "# Functions\n",
    "# analyze (), compare(), and compare_instra()"
   ]
  },
  {
   "cell_type": "code",
   "execution_count": null,
   "id": "f4fc5c26",
   "metadata": {},
   "outputs": [],
   "source": [
    "! pip install "
   ]
  }
 ],
 "metadata": {
  "kernelspec": {
   "display_name": "Python 3 (ipykernel)",
   "language": "python",
   "name": "python3"
  },
  "language_info": {
   "codemirror_mode": {
    "name": "ipython",
    "version": 3
   },
   "file_extension": ".py",
   "mimetype": "text/x-python",
   "name": "python",
   "nbconvert_exporter": "python",
   "pygments_lexer": "ipython3",
   "version": "3.9.12"
  }
 },
 "nbformat": 4,
 "nbformat_minor": 5
}
